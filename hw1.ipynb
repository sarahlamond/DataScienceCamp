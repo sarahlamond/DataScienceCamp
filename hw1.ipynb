{
 "cells": [
  {
   "cell_type": "markdown",
   "metadata": {},
   "source": [
    "# Data Science Bootcamp 2025' \n",
    "### Homework 1 Submission\n",
    "Author: *Sarah Lamond*"
   ]
  },
  {
   "cell_type": "markdown",
   "metadata": {},
   "source": [
    "**Excercise One:**"
   ]
  },
  {
   "cell_type": "code",
   "execution_count": 1,
   "metadata": {},
   "outputs": [
    {
     "name": "stdout",
     "output_type": "stream",
     "text": [
      "Fibonacci Series: [0, 1, 1, 2, 3, 5, 8, 13, 21, 34]\n"
     ]
    }
   ],
   "source": [
    "def fibonacci_series(n):\n",
    "    fib = [0, 1]\n",
    "    for i in range(2, n):\n",
    "        fib.append(fib[-1] + fib[-2])\n",
    "    return fib\n",
    "\n",
    "print(\"Fibonacci Series:\", fibonacci_series(10))"
   ]
  },
  {
   "cell_type": "markdown",
   "metadata": {},
   "source": [
    "**Excercise Two:**"
   ]
  },
  {
   "cell_type": "code",
   "execution_count": 2,
   "metadata": {},
   "outputs": [
    {
     "name": "stdout",
     "output_type": "stream",
     "text": [
      "Numbers at odd indices: [2, 4, 6, 8, 10]\n"
     ]
    }
   ],
   "source": [
    "def odd_index_numbers(lst):\n",
    "    return [lst[i] for i in range(len(lst)) if i % 2 == 1]\n",
    "\n",
    "numbers = [1, 2, 3, 4, 5, 6, 7, 8, 9, 10]\n",
    "print(\"Numbers at odd indices:\", odd_index_numbers(numbers))"
   ]
  },
  {
   "cell_type": "markdown",
   "metadata": {},
   "source": [
    "**Excercise Three:**"
   ]
  },
  {
   "cell_type": "code",
   "execution_count": 3,
   "metadata": {},
   "outputs": [
    {
     "name": "stdout",
     "output_type": "stream",
     "text": [
      "Number of different words: 47\n"
     ]
    }
   ],
   "source": [
    "text = \"\"\"\n",
    "I have provided this text to provide tips on creating interesting paragraphs.\n",
    "First, start with a clear topic sentence that introduces the main idea.\n",
    "Then, support the topic sentence with specific details, examples, and evidence.\n",
    "Vary the sentence length and structure to keep the reader engaged.\n",
    "Finally, end with a strong concluding sentence that summarizes the main points.\n",
    "Remember, practice makes perfect!\n",
    "\"\"\"\n",
    "\n",
    "import re\n",
    "\n",
    "def count_unique_words(text):\n",
    "    words = re.findall(r'\\b\\w+\\b', text.lower())\n",
    "    return len(set(words))\n",
    "\n",
    "print(\"Number of different words:\", count_unique_words(text))"
   ]
  },
  {
   "cell_type": "markdown",
   "metadata": {},
   "source": [
    "**Excercise Four:**"
   ]
  },
  {
   "cell_type": "code",
   "execution_count": 4,
   "metadata": {},
   "outputs": [
    {
     "name": "stdout",
     "output_type": "stream",
     "text": [
      "Vowel count in 'hello': 2\n"
     ]
    }
   ],
   "source": [
    "def count_vowels(word):\n",
    "    vowels = \"aeiouAEIOU\"\n",
    "    return sum(1 for char in word if char in vowels)\n",
    "\n",
    "print(\"Vowel count in 'hello':\", count_vowels(\"hello\"))"
   ]
  },
  {
   "cell_type": "markdown",
   "metadata": {},
   "source": [
    "**Excercise Five:**"
   ]
  },
  {
   "cell_type": "code",
   "execution_count": 5,
   "metadata": {},
   "outputs": [
    {
     "name": "stdout",
     "output_type": "stream",
     "text": [
      "Animals in uppercase:\n",
      "TIGER\n",
      "ELEPHANT\n",
      "MONKEY\n",
      "ZEBRA\n",
      "PANTHER\n"
     ]
    }
   ],
   "source": [
    "animals = ['tiger', 'elephant', 'monkey', 'zebra', 'panther']\n",
    "print(\"Animals in uppercase:\")\n",
    "for animal in animals:\n",
    "    print(animal.upper())"
   ]
  },
  {
   "cell_type": "markdown",
   "metadata": {},
   "source": [
    "**Excercise Six:**"
   ]
  },
  {
   "cell_type": "code",
   "execution_count": 6,
   "metadata": {},
   "outputs": [
    {
     "name": "stdout",
     "output_type": "stream",
     "text": [
      "1 is odd\n",
      "2 is even\n",
      "3 is odd\n",
      "4 is even\n",
      "5 is odd\n",
      "6 is even\n",
      "7 is odd\n",
      "8 is even\n",
      "9 is odd\n",
      "10 is even\n",
      "11 is odd\n",
      "12 is even\n",
      "13 is odd\n",
      "14 is even\n",
      "15 is odd\n",
      "16 is even\n",
      "17 is odd\n",
      "18 is even\n",
      "19 is odd\n",
      "20 is even\n"
     ]
    }
   ],
   "source": [
    "def odd_even():\n",
    "    for i in range(1, 21):\n",
    "        print(f\"{i} is {'even' if i % 2 == 0 else 'odd'}\")\n",
    "\n",
    "odd_even()"
   ]
  },
  {
   "cell_type": "markdown",
   "metadata": {},
   "source": [
    "**Excercise Seven:**"
   ]
  },
  {
   "cell_type": "code",
   "execution_count": 1,
   "metadata": {},
   "outputs": [],
   "source": [
    "def sum_of_integers(a, b):\n",
    "    return a + b\n",
    "\n",
    "a = int(input(\"Enter first integer: \"))\n",
    "b = int(input(\"Enter second integer: \"))\n",
    "print(\"Sum of integers:\", sum_of_integers(a, b))"
   ]
  }
 ],
 "metadata": {
  "kernelspec": {
   "display_name": "Python 3",
   "language": "python",
   "name": "python3"
  },
  "language_info": {
   "codemirror_mode": {
    "name": "ipython",
    "version": 3
   },
   "file_extension": ".py",
   "mimetype": "text/x-python",
   "name": "python",
   "nbconvert_exporter": "python",
   "pygments_lexer": "ipython3",
   "version": "3.10.1"
  }
 },
 "nbformat": 4,
 "nbformat_minor": 2
}
