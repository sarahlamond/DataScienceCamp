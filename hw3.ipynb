{
  "cells": [
    {
      "cell_type": "markdown",
      "metadata": {
        "id": "qq91WXmVH3WU"
      },
      "source": [
        "1) Filter the data to include only weekdays (Monday to Friday) and plot a line graph showing the pedestrian counts for each day of the week."
      ]
    },
    {
      "cell_type": "code",
      "execution_count": null,
      "metadata": {
        "colab": {
          "base_uri": "https://localhost:8080/",
          "height": 564
        },
        "id": "53spWFiAH5HG",
        "outputId": "c7c9d85b-e208-47d9-bef7-3e2f7be9eb05"
      },
      "outputs": [],
      "source": [
        "import pandas as pd\n",
        "import matplotlib.pyplot as plt\n",
        "\n",
        "url = \"https://data.cityofnewyork.us/api/views/6fi9-q3ta/rows.csv?accessType=DOWNLOAD\"\n",
        "df = pd.read_csv(url)\n",
        "\n",
        "df['hour_beginning'] = pd.to_datetime(df['hour_beginning'])\n",
        "\n",
        "weekdays = df[df['hour_beginning'].dt.dayofweek <= 4]\n",
        "\n",
        "weekdays['day_name'] = weekdays['hour_beginning'].dt.day_name()\n",
        "\n",
        "ordered_days = ['Monday', 'Tuesday', 'Wednesday', 'Thursday', 'Friday']\n",
        "\n",
        "ped_counts_per_day = (\n",
        "    weekdays.groupby('day_name')['Pedestrians']\n",
        "    .sum()\n",
        "    .reindex(ordered_days) \n",
        ")\n",
        "\n",
        "plt.figure(figsize=(10, 6))\n",
        "plt.plot(ped_counts_per_day.index, ped_counts_per_day.values, marker='o', linestyle='-', linewidth=2)\n",
        "plt.title('Total Pedestrian Counts (Weekdays Only)', fontsize=16)\n",
        "plt.xlabel('Day of the Week', fontsize=12)\n",
        "plt.ylabel('Pedestrian Counts', fontsize=12)\n",
        "plt.xticks(fontsize=11)\n",
        "plt.yticks(fontsize=11)\n",
        "plt.grid(True, linestyle='--', alpha=0.6)\n",
        "\n",
        "plt.tight_layout()\n",
        "plt.show()\n",
        "\n"
      ]
    },
    {
      "cell_type": "markdown",
      "metadata": {
        "id": "QmnkxkycJT_F"
      },
      "source": [
        "2) Track pedestrian counts on the Brooklyn Bridge for the year 2019 and analyze how different weather conditions influence pedestrian activity in that year. Sort the pedestrian count data by weather summary to identify any correlations( with a correlation matrix) between weather patterns and pedestrian counts for the selected year.\n",
        "\n",
        "-This question requires you to show the relationship between a numerical feature(Pedestrians) and a non-numerical feature(Weather Summary). In such instances we use Encoding. Each weather condition can be encoded as numbers( 0,1,2..). This technique is called One-hot encoding.\n",
        "\n",
        "-Correlation matrices may not always be the most suitable visualization method for relationships involving categorical datapoints, nonetheless this was given as a question to help you understand the concept better."
      ]
    },
    {
      "cell_type": "code",
      "execution_count": null,
      "metadata": {
        "colab": {
          "base_uri": "https://localhost:8080/",
          "height": 816
        },
        "id": "vxSI0gGdJmJG",
        "outputId": "d04c3aa6-a4a1-4744-c3c7-5cbaf664010e"
      },
      "outputs": [],
      "source": [
        "import pandas as pd\n",
        "import matplotlib.pyplot as plt\n",
        "import seaborn as sns\n",
        "\n",
        "url = \"https://data.cityofnewyork.us/api/views/6fi9-q3ta/rows.csv?accessType=DOWNLOAD\"\n",
        "df = pd.read_csv(url)\n",
        "df['hour_beginning'] = pd.to_datetime(df['hour_beginning'])\n",
        "df_2019 = df[(df['hour_beginning'].dt.year == 2019) & (df['Pedestrian_Bridge'] == 'Brooklyn Bridge')]\n",
        "df_2019 = df_2019.dropna(subset=['Weather_Summary', 'Pedestrians'])\n",
        "weather_encoded = pd.get_dummies(df_2019['Weather_Summary'])\n",
        "weather_ped_df = pd.concat([df_2019[['Pedestrians']], weather_encoded], axis=1)\n",
        "correlation_matrix = weather_ped_df.corr()\n",
        "corr_with_peds = correlation_matrix[['Pedestrians']].drop('Pedestrians')\n",
        "\n",
        "plt.figure(figsize=(10, 6))\n",
        "sns.heatmap(corr_with_peds, annot=True, cmap='coolwarm', center=0)\n",
        "plt.title('Correlation Between Weather Conditions and Pedestrian Counts (Brooklyn Bridge, 2019)', fontsize=14)\n",
        "plt.xlabel('Pedestrian Count')\n",
        "plt.ylabel('Weather Summary')\n",
        "plt.tight_layout()\n",
        "plt.show()"
      ]
    },
    {
      "cell_type": "markdown",
      "metadata": {
        "id": "9cxJqHXzWb_o"
      },
      "source": [
        " 3)Implement a custom function to categorize time of day into morning, afternoon, evening, and night, and create a new column in the DataFrame to store these categories. Use this new column to analyze pedestrian activity patterns throughout the day.\n",
        "\n",
        " -Students can also show plots analyzing activity.\n"
      ]
    },
    {
      "cell_type": "code",
      "execution_count": null,
      "metadata": {
        "colab": {
          "base_uri": "https://localhost:8080/"
        },
        "id": "hU_yEQpxOa3f",
        "outputId": "6bd5c052-aef7-4cac-ec3d-b902a081d8c8"
      },
      "outputs": [],
      "source": [
        "import pandas as pd\n",
        "import matplotlib.pyplot as plt\n",
        "\n",
        "url = \"https://data.cityofnewyork.us/api/views/6fi9-q3ta/rows.csv?accessType=DOWNLOAD\"\n",
        "df = pd.read_csv(url)\n",
        "\n",
        "df['hour_beginning'] = pd.to_datetime(df['hour_beginning'])\n",
        "\n",
        "def categorize_time_of_day(hour):\n",
        "    if 5 <= hour < 11:\n",
        "        return 'Morning'\n",
        "    elif 11 <= hour < 16:\n",
        "        return 'Afternoon'\n",
        "    elif 16 <= hour < 21:\n",
        "        return 'Evening'\n",
        "    else:\n",
        "        return 'Night'\n",
        "\n",
        "df['Time_of_Day'] = df['hour_beginning'].dt.hour.apply(categorize_time_of_day)\n",
        "\n",
        "ped_by_time = df.groupby('Time_of_Day')['Pedestrians'].sum().reindex(['Morning', 'Afternoon', 'Evening', 'Night'])\n",
        "\n",
        "plt.figure(figsize=(8, 6))\n",
        "ped_by_time.plot(kind='bar', color='skyblue')\n",
        "plt.title('Total Pedestrian Activity by Time of Day')\n",
        "plt.xlabel('Time of Day')\n",
        "plt.ylabel('Total Pedestrians')\n",
        "plt.xticks(rotation=0)\n",
        "plt.grid(axis='y', linestyle='--', alpha=0.6)\n",
        "plt.tight_layout()\n",
        "plt.show()"
      ]
    },
    {
      "cell_type": "code",
      "execution_count": null,
      "metadata": {
        "id": "fsMegU4pWvnD"
      },
      "outputs": [],
      "source": []
    }
  ],
  "metadata": {
    "colab": {
      "provenance": []
    },
    "kernelspec": {
      "display_name": "Python 3",
      "name": "python3"
    },
    "language_info": {
      "codemirror_mode": {
        "name": "ipython",
        "version": 3
      },
      "file_extension": ".py",
      "mimetype": "text/x-python",
      "name": "python",
      "nbconvert_exporter": "python",
      "pygments_lexer": "ipython3",
      "version": "3.10.1"
    }
  },
  "nbformat": 4,
  "nbformat_minor": 0
}
