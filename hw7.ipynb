{
 "cells": [
  {
   "cell_type": "markdown",
   "metadata": {},
   "source": [
    "### Week 7 Assignment  \n",
    "**Name:** Sarah Lamond / sc8989  \n",
    "\n",
    "**Q1. How do you control for biases?**  \n",
    "To control for biases, researchers use methods like randomization, blinding, and careful experimental design. These techniques help reduce the influence of external variables and ensure that the results reflect the true relationship between the variables being studied, rather than being skewed by uncontrolled factors.\n",
    "\n",
    "**Q2. What are confounding variables?**  \n",
    "Confounding variables are outside influences that affect both the independent and dependent variables, making it difficult to determine a true cause-and-effect relationship. They can introduce false associations in a study if not properly accounted for, which is why identifying and controlling them is crucial in research.\n",
    "\n",
    "**Q3. What is A/B testing?**  \n",
    "A/B testing, or split testing, is an experimental method used to compare two versions of something—like a website, app, or advertisement—to determine which performs better. Users are randomly shown either version A or B, and their responses (like clicks or signups) are measured to see which version yields better outcomes.\n",
    "\n",
    "**Q4. When will you use Welch’s t-test?**  \n",
    "Welch’s t-test is used when comparing two groups that have unequal variances or sample sizes. Unlike the standard Student’s t-test, Welch’s test adjusts for these differences, making it a better option when the assumption of equal variance is not met.\n"
   ]
  }
 ],
 "metadata": {
  "kernelspec": {
   "display_name": "Python 3",
   "language": "python",
   "name": "python3"
  },
  "language_info": {
   "codemirror_mode": {
    "name": "ipython",
    "version": 3
   },
   "file_extension": ".py",
   "mimetype": "text/x-python",
   "name": "python",
   "nbconvert_exporter": "python",
   "pygments_lexer": "ipython3",
   "version": "3.12.0rc1"
  }
 },
 "nbformat": 4,
 "nbformat_minor": 2
}
