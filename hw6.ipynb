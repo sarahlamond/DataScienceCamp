{
  "cells": [
    {
      "cell_type": "code",
      "execution_count": null,
      "metadata": {
        "id": "4NigFWrcvkfz"
      },
      "outputs": [],
      "source": [
        "import pandas as pd\n",
        "import numpy as np\n",
        "import seaborn as sns\n",
        "from sklearn.preprocessing import OneHotEncoder, StandardScaler\n",
        "from sklearn.model_selection import train_test_split\n",
        "import matplotlib.pyplot as plt\n",
        "from sklearn.linear_model import LinearRegression\n",
        "from sklearn.metrics import mean_absolute_error, mean_squared_error"
      ]
    },
    {
      "cell_type": "code",
      "execution_count": null,
      "metadata": {
        "id": "8cdaWna0UZQg"
      },
      "outputs": [],
      "source": [
        "data = pd.read_csv(\"employee.csv\")\n",
        "data.shape\n",
        "data.head()\n",
        "data = data.drop(columns=['id', 'timestamp','country'])\n",
        "data.columns"
      ]
    },
    {
      "cell_type": "code",
      "execution_count": null,
      "metadata": {
        "id": "y1gJSNOwXx7W"
      },
      "outputs": [],
      "source": [
        "data.loc[data['hours_per_week'].isna(), 'hours_per_week'] = data['hours_per_week'].median()\n",
        "data.loc[data['telecommute_days_per_week'].isna(), 'telecommute_days_per_week'] = data['telecommute_days_per_week'].median()\n",
        "data = data.dropna()\n",
        "data.info()"
      ]
    },
    {
      "cell_type": "markdown",
      "metadata": {
        "id": "k4nq6pPZYuE0"
      },
      "source": [
        "###Data Visualization :"
      ]
    },
    {
      "cell_type": "code",
      "execution_count": null,
      "metadata": {
        "colab": {
          "base_uri": "https://localhost:8080/"
        },
        "id": "zK-yV-sUf8Qt",
        "outputId": "a2b6850a-2e68-4bf5-9af4-497e7b27f380"
      },
      "outputs": [],
      "source": [
        "col = [c for c in data_train.columns if data_train[c].dtype == 'object' and c not in ['is_manager','certifications']]\n",
        "col_data = data_train[cat_cols]\n",
        "col\n",
        "binary = ['is_manager', 'certifications']\n",
        "for c in binary:\n",
        "    data_train[c] = data_train[c].replace(to_replace=['Yes'], value=1)\n",
        "    data_train[c] = data_train[c].replace(to_replace=['No'], value=0)\n",
        "\n",
        "final_data = pd.get_dummies(data_train, columns=col, drop_first= True,dtype=int)\n",
        "final_data.shape"
      ]
    },
    {
      "cell_type": "markdown",
      "metadata": {
        "id": "q3oRuBW4gTJv"
      },
      "source": [
        "## Train Test Split"
      ]
    },
    {
      "cell_type": "code",
      "execution_count": null,
      "metadata": {
        "colab": {
          "base_uri": "https://localhost:8080/"
        },
        "id": "P74hUqfxgNnh",
        "outputId": "a25a6f8c-560a-4658-9f71-45d0480695c9"
      },
      "outputs": [],
      "source": [
        "y = final_data['salary']\n",
        "X = final_data.drop(columns=['salary'])\n",
        "\n",
        "X_train, X_test, y_train, y_test = train_test_split(X, y, test_size=0.2)\n",
        "print(\"Training Set Dimensions:\", X_train.shape)\n",
        "print(\"Validation Set Dimensions:\", X_test.shape)"
      ]
    },
    {
      "cell_type": "markdown",
      "metadata": {
        "id": "p9rhnv44gb3z"
      },
      "source": [
        "Pre-processing data"
      ]
    },
    {
      "cell_type": "code",
      "execution_count": null,
      "metadata": {
        "colab": {
          "base_uri": "https://localhost:8080/"
        },
        "id": "Qu7qjbRJgXHu",
        "outputId": "6a0eadb2-3160-436c-8793-5fec7fa8c75d"
      },
      "outputs": [],
      "source": [
        "# select numerical features\n",
        "num_cols = ['job_years','hours_per_week','telecommute_days_per_week']\n",
        "num_cols\n"
      ]
    }
  ],
  "metadata": {
    "colab": {
      "provenance": []
    },
    "kernelspec": {
      "display_name": "Python 3",
      "name": "python3"
    },
    "language_info": {
      "codemirror_mode": {
        "name": "ipython",
        "version": 3
      },
      "file_extension": ".py",
      "mimetype": "text/x-python",
      "name": "python",
      "nbconvert_exporter": "python",
      "pygments_lexer": "ipython3",
      "version": "3.12.0rc1"
    }
  },
  "nbformat": 4,
  "nbformat_minor": 0
}
